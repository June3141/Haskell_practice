{
 "cells": [
  {
   "cell_type": "code",
   "execution_count": 1,
   "metadata": {},
   "outputs": [],
   "source": [
    "import numpy as np\n",
    "import matplotlib.pyplot as plt\n",
    "import os\n",
    "\n",
    "\n",
    "x_min = -3.0\n",
    "x_max =  3.0\n",
    "y_min = -3.0\n",
    "y_max =  3.0\n",
    "\n",
    "origin = [0.0, 0.0]\n",
    "\n",
    "\n",
    "path = \"./data/\"\n",
    "dat_list = os.listdir(path)\n",
    "\n",
    "for i in range(len(dat_list)):\n",
    "    dat_name = \"{0}.dat\".format(i)\n",
    "    info= np.loadtxt(path + dat_name)\n",
    "\n",
    "    pendulum_x = [origin[0], info[0], info[2]] \n",
    "    pendulum_y = [origin[1], info[1], info[3]]\n",
    "    time = info[4]\n",
    "\n",
    "    fig = plt.figure(figsize = (6, 6))\n",
    "    plt.grid()\n",
    "    plt.title(\"time:{0:2f}\".format(time))\n",
    "\n",
    "    plt.xlim(x_min, x_max)\n",
    "    plt.ylim(y_min, y_max)\n",
    "    plt.plot(pendulum_x, pendulum_y, color = \"b\", marker = \"o\", markersize = 12)\n",
    "    plt.savefig(\"./picture/{0:05d}.png\".format(i))\n",
    "    plt.close()"
   ]
  },
  {
   "cell_type": "code",
   "execution_count": 39,
   "metadata": {},
   "outputs": [
    {
     "data": {
      "text/plain": [
       "0.0"
      ]
     },
     "execution_count": 39,
     "metadata": {},
     "output_type": "execute_result"
    }
   ],
   "source": []
  },
  {
   "cell_type": "code",
   "execution_count": null,
   "metadata": {},
   "outputs": [],
   "source": []
  }
 ],
 "metadata": {
  "kernelspec": {
   "display_name": "Python 3",
   "language": "python",
   "name": "python3"
  },
  "language_info": {
   "codemirror_mode": {
    "name": "ipython",
    "version": 3
   },
   "file_extension": ".py",
   "mimetype": "text/x-python",
   "name": "python",
   "nbconvert_exporter": "python",
   "pygments_lexer": "ipython3",
   "version": "3.6.6"
  }
 },
 "nbformat": 4,
 "nbformat_minor": 2
}
